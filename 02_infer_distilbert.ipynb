{
 "cells": [
  {
   "cell_type": "code",
   "execution_count": null,
   "id": "1677170c",
   "metadata": {},
   "outputs": [],
   "source": [
    "import os\n",
    "from transformers import AutoModelForSequenceClassification\n",
    "from article_classifier.dataset import id2label, label2id, create_prompt\n",
    "\n",
    "# model_path = \"distilbert/distilbert-base-cased\" # todo, replace with hacker1337/article-classifier\n",
    "# model_path = os.path.expanduser(r\"~\\cache\\huggingface\\checkpoints\\distilbert-arxiv\\runs\\Jun21_00-41-18_amir-xp\")\n",
    "model_path = os.path.join(os.path.expanduser(\"~\"), \".cache\", \"huggingface\", \"checkpoints\", \"distilbert-arxiv\")\n",
    "\n",
    "model = AutoModelForSequenceClassification.from_pretrained(\n",
    "    model_path,\n",
    "    num_labels=len(id2label),\n",
    "    id2label=id2label,\n",
    "    label2id=label2id,\n",
    "    problem_type=\"multi_label_classification\",\n",
    ")\n"
   ]
  },
  {
   "cell_type": "code",
   "execution_count": null,
   "id": "fb1593b1",
   "metadata": {},
   "outputs": [
    {
     "data": {
      "text/plain": [
       "'C:\\\\Users\\\\amirf\\\\.cache\\\\huggingface\\\\checkpoints\\\\distilbert-arxiv'"
      ]
     },
     "execution_count": null,
     "metadata": {},
     "output_type": "execute_result"
    }
   ],
   "source": [
    "model_path"
   ]
  },
  {
   "cell_type": "code",
   "execution_count": null,
   "id": "871b98be",
   "metadata": {},
   "outputs": [
    {
     "name": "stdout",
     "output_type": "stream",
     "text": [
      " Volume in drive C is OS\n",
      " Volume Serial Number is 58DB-6C24\n",
      "\n",
      " Directory of C:\\Users\\amirf\\.cache\\huggingface\\checkpoints\\distilbert-arxiv\n",
      "\n",
      "22.06.2025  15:59    <DIR>          .\n",
      "21.06.2025  00:35    <DIR>          ..\n",
      "22.06.2025  15:59               810 config.json\n",
      "22.06.2025  15:59       263�153�916 model.safetensors\n",
      "21.06.2025  00:41    <DIR>          runs\n",
      "22.06.2025  15:59               132 special_tokens_map.json\n",
      "22.06.2025  15:59           668�923 tokenizer.json\n",
      "22.06.2025  15:59             1�284 tokenizer_config.json\n",
      "22.06.2025  15:59           213�450 vocab.txt\n",
      "               6 File(s)    264�038�515 bytes\n",
      "               3 Dir(s)  59�368�357�888 bytes free\n"
     ]
    }
   ],
   "source": [
    "!dir {model_path}"
   ]
  },
  {
   "cell_type": "code",
   "execution_count": null,
   "id": "c53fc042",
   "metadata": {},
   "outputs": [
    {
     "name": "stderr",
     "output_type": "stream",
     "text": [
      "Device set to use cuda:0\n"
     ]
    }
   ],
   "source": [
    "from transformers import pipeline\n",
    "\n",
    "classifier = pipeline(\n",
    "    \"text-classification\",\n",
    "    model=model_path,\n",
    "    tokenizer=model_path,\n",
    ")"
   ]
  },
  {
   "cell_type": "code",
   "execution_count": null,
   "id": "e474610a",
   "metadata": {},
   "outputs": [],
   "source": [
    "from article_classifier.dataset import load_arxiv_dataset\n",
    "\n",
    "dataset = load_arxiv_dataset()"
   ]
  },
  {
   "cell_type": "code",
   "execution_count": null,
   "id": "a302d6a6",
   "metadata": {},
   "outputs": [
    {
     "data": {
      "text/plain": [
       "Dataset({\n",
       "    features: ['titles', 'summaries', 'terms'],\n",
       "    num_rows: 51774\n",
       "})"
      ]
     },
     "execution_count": null,
     "metadata": {},
     "output_type": "execute_result"
    }
   ],
   "source": [
    "dataset"
   ]
  },
  {
   "cell_type": "code",
   "execution_count": null,
   "id": "6c4b44c2",
   "metadata": {},
   "outputs": [
    {
     "name": "stdout",
     "output_type": "stream",
     "text": [
      "# title:\n",
      "Survey on Semantic Stereo Matching / Semantic Depth Estimation\n",
      "# abstract:\n",
      "Stereo matching is one of the widely used techniques for inferring depth from\n",
      "stereo images owing to its robustness and speed. It has become one of the major\n",
      "topics of research since it finds its applications in autonomous driving,\n",
      "robotic navigation, 3D reconstruction, and many other fields. Finding pixel\n",
      "correspondences in non-textured, occluded and reflective areas is the major\n",
      "challenge in stereo matching. Recent developments have shown that semantic cues\n",
      "from image segmentation can be used to improve the results of stereo matching.\n",
      "Many deep neural network architectures have been proposed to leverage the\n",
      "advantages of semantic segmentation in stereo matching. This paper aims to give\n",
      "a comparison among the state of art networks both in terms of accuracy and in\n",
      "terms of speed which are of higher importance in real-time applications.\n",
      "Classes: ['cs.CV', 'cs.LG']\n"
     ]
    }
   ],
   "source": [
    "sample_prompt_full = create_prompt(\n",
    "    dataset[0][\"titles\"],\n",
    "    dataset[0][\"summaries\"],\n",
    ")\n",
    "classes = dataset[0][\"terms\"]\n",
    "print(sample_prompt_full)\n",
    "print(\"Classes:\", classes)"
   ]
  },
  {
   "cell_type": "code",
   "execution_count": null,
   "id": "ac659aa9",
   "metadata": {},
   "outputs": [
    {
     "data": {
      "text/plain": [
       "[{'label': 'CV', 'score': 0.9944138526916504},\n",
       " {'label': 'ML', 'score': 0.10464362800121307},\n",
       " {'label': 'AI', 'score': 0.04399743676185608},\n",
       " {'label': 'NE', 'score': 0.009200998581945896},\n",
       " {'label': 'CL', 'score': 0.00635348679497838}]"
      ]
     },
     "execution_count": null,
     "metadata": {},
     "output_type": "execute_result"
    }
   ],
   "source": [
    "predictions = classifier(sample_prompt_full, top_k=None)\n",
    "predictions"
   ]
  },
  {
   "cell_type": "code",
   "execution_count": null,
   "id": "ea2cf222",
   "metadata": {},
   "outputs": [],
   "source": [
    "only_title_prompt = create_prompt(\n",
    "    dataset[0][\"titles\"],\n",
    "    \"\")\n",
    "only_abstract_prompt = create_prompt(\n",
    "    \"\",\n",
    "    dataset[0][\"summaries\"],\n",
    ")"
   ]
  },
  {
   "cell_type": "code",
   "execution_count": null,
   "id": "6fbe334d",
   "metadata": {},
   "outputs": [
    {
     "name": "stdout",
     "output_type": "stream",
     "text": [
      "Only title prompt predictions: [{'label': 'CV', 'score': 0.8638411164283752}, {'label': 'ML', 'score': 0.37290239334106445}, {'label': 'AI', 'score': 0.1514018476009369}, {'label': 'NE', 'score': 0.06561543792486191}, {'label': 'CL', 'score': 0.046929094940423965}]\n",
      "Only abstract prompt predictions: [{'label': 'CV', 'score': 0.9935577511787415}, {'label': 'ML', 'score': 0.1251823604106903}, {'label': 'AI', 'score': 0.04704591631889343}, {'label': 'NE', 'score': 0.009932062588632107}, {'label': 'CL', 'score': 0.006572176702320576}]\n"
     ]
    }
   ],
   "source": [
    "print(\"Only title prompt predictions:\", classifier(only_title_prompt, top_k=None))\n",
    "print(\"Only abstract prompt predictions:\", classifier(only_abstract_prompt, top_k=None))"
   ]
  },
  {
   "cell_type": "code",
   "execution_count": null,
   "id": "5e3837cc",
   "metadata": {},
   "outputs": [],
   "source": []
  }
 ],
 "metadata": {
  "kernelspec": {
   "display_name": "python3",
   "language": "python",
   "name": "python3"
  }
 },
 "nbformat": 4,
 "nbformat_minor": 5
}
